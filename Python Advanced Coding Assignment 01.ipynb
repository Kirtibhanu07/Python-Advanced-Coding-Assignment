{
 "cells": [
  {
   "cell_type": "markdown",
   "id": "d0509b3b",
   "metadata": {},
   "source": [
    "# 1."
   ]
  },
  {
   "cell_type": "markdown",
   "id": "88b6bb09",
   "metadata": {},
   "source": [
    "Write a function that takes a list of lists and returns the value of all of the symbols in it, where each symbol adds or takes something from the total score. \n",
    "\n",
    "Symbol values: # = 5\n",
    "O = 3\n",
    "X = 1\n",
    "! = -1\n",
    "!! = -3\n",
    "!!! = -5\n",
    "\n",
    "A list of lists containing 2 #s, a O, and a !!! would equal (0 + 5 + 5 + 3 - 5) 8.\n",
    "If the final score is negative, return 0 (e.g. 3 #s, 3 !!s, 2 !!!s and a X would be\n",
    "(0 + 5 + 5 + 5 - 3 - 3 - 3 - 5 - 5 + 1) -3, so return 0."
   ]
  },
  {
   "cell_type": "code",
   "execution_count": 1,
   "id": "50c7f6f5",
   "metadata": {},
   "outputs": [],
   "source": [
    "def symbol(lst):\n",
    "    score = 0\n",
    "    for l in lst:\n",
    "        for ele in l:\n",
    "            if ele == '#':\n",
    "                score+=5\n",
    "            elif ele == 'O':\n",
    "                score+= 3\n",
    "            elif ele == 'X':\n",
    "                score+= 1\n",
    "            elif ele == '!':\n",
    "                score-= 1\n",
    "            elif ele == '!!':\n",
    "                score-= 3\n",
    "            elif ele == '!!!':\n",
    "                score-= 5\n",
    "    return score\n",
    "\n"
   ]
  },
  {
   "cell_type": "code",
   "execution_count": 3,
   "id": "840bbed1",
   "metadata": {},
   "outputs": [
    {
     "name": "stdout",
     "output_type": "stream",
     "text": [
      "2\n"
     ]
    }
   ],
   "source": [
    "lst = [['#', '!'], ['!!', 'X']]\n",
    "total_score = symbol(lst)\n",
    "print(total_score)"
   ]
  },
  {
   "cell_type": "code",
   "execution_count": null,
   "id": "30bb77e2",
   "metadata": {},
   "outputs": [],
   "source": []
  },
  {
   "cell_type": "markdown",
   "id": "45cf853f",
   "metadata": {},
   "source": [
    "# 2."
   ]
  },
  {
   "cell_type": "raw",
   "id": "07c4b2c6",
   "metadata": {},
   "source": [
    "Create a function that takes a variable number of arguments, each argument representing the number of items in a group, and returns the number of permutations (combinations) of items that you could get by taking one item from each group.\n",
    "\n",
    "Examples\n",
    "combinations(2, 3) ➞ 6\n",
    "combinations(3, 7, 4) ➞ 84\n",
    "combinations(2, 3, 4, 5) ➞ 120"
   ]
  },
  {
   "cell_type": "code",
   "execution_count": 7,
   "id": "fdc5773c",
   "metadata": {},
   "outputs": [
    {
     "data": {
      "text/plain": [
       "120"
      ]
     },
     "execution_count": 7,
     "metadata": {},
     "output_type": "execute_result"
    }
   ],
   "source": [
    "def combinations(*awrgs):\n",
    "    result = 1\n",
    "    for k in awrgs:\n",
    "        result *= k\n",
    "    return result    \n",
    "\n",
    "# Function Call\n",
    "combinations(2,3,4,5)"
   ]
  },
  {
   "cell_type": "code",
   "execution_count": null,
   "id": "335ebe0b",
   "metadata": {},
   "outputs": [],
   "source": []
  },
  {
   "cell_type": "markdown",
   "id": "69ac60f5",
   "metadata": {},
   "source": [
    "# 3."
   ]
  },
  {
   "cell_type": "raw",
   "id": "7aecd4d1",
   "metadata": {},
   "source": [
    "Create a function that takes a string as an argument and returns the Morse code equivalent.\n",
    "MORSE_CODE_DICT = { 'A':'.-', 'B':'-...',\n",
    "                    'C':'-.-.', 'D':'-..', 'E':'.',\n",
    "                    'F':'..-.', 'G':'--.', 'H':'....',\n",
    "                    'I':'..', 'J':'.---', 'K':'-.-',\n",
    "                    'L':'.-..', 'M':'--', 'N':'-.',\n",
    "                    'O':'---', 'P':'.--.', 'Q':'--.-',\n",
    "                    'R':'.-.', 'S':'...', 'T':'-',\n",
    "                    'U':'..-', 'V':'...-', 'W':'.--',\n",
    "                    'X':'-..-', 'Y':'-.--', 'Z':'--..',\n",
    "                    '1':'.----', '2':'..---', '3':'...--',\n",
    "                    '4':'....-', '5':'.....', '6':'-....',\n",
    "                    '7':'--...', '8':'---..', '9':'----.',\n",
    "                    '0':'-----', ', ':'--..--', '.':'.-.-.-',\n",
    "                    '?':'..--..', '/':'-..-.', '-':'-....-',\n",
    "                    '(':'-.--.', ')':'-.--.-'}\n"
   ]
  },
  {
   "cell_type": "code",
   "execution_count": 16,
   "id": "ef767a6a",
   "metadata": {},
   "outputs": [
    {
     "name": "stdout",
     "output_type": "stream",
     "text": [
      "... --- ...\n"
     ]
    }
   ],
   "source": [
    "def morse_code(txt):\n",
    "    code = ''\n",
    "    morse_code = {'A': '.-', 'B': '-...', 'C': '-.-.', 'D': '-..', 'E': '.', 'F': '..-.', 'G': '--.', 'H': '....', 'I': '..', 'J': '.---', 'K': '-.-', 'L': '.-..', 'M': '--', 'N': '-.', 'O': '---', 'P': '.--.', 'Q': '--.-', 'R': '.-.', 'S': '...', 'T': '-', 'U': '..-', 'V': '...-', 'W': '.--', 'X': '-..-', 'Y': '-.--', 'Z': '--..', '0': '-----', '1': '.----', '2': '..---', '3': '...--', '4': '....-', '5': '.....', '6': '-....', '7': '--...', '8': '---..', '9': '----.'}\n",
    "    for k in txt.upper():\n",
    "        if k in morse_code:\n",
    "            code += morse_code[k] + ' '\n",
    "        elif k == ' ':\n",
    "            code += ' '\n",
    "    return code.strip()\n",
    "\n",
    "\n",
    "print(morse_code('SOS'))"
   ]
  },
  {
   "cell_type": "code",
   "execution_count": null,
   "id": "c73eccb2",
   "metadata": {},
   "outputs": [],
   "source": []
  },
  {
   "cell_type": "markdown",
   "id": "59338687",
   "metadata": {},
   "source": [
    "# 4."
   ]
  },
  {
   "cell_type": "raw",
   "id": "61080292",
   "metadata": {},
   "source": [
    "Write a function that takes a number and returns True if it;s a prime; False otherwise. The number can be 2^64-1 (2 to the power of 63, not XOR). With the standard technique it would be O(2^64-1), which is much too large for the 10 second time limit.\n",
    "\n",
    "Examples\n",
    "\n",
    "prime(7) ➞ True\n",
    "prime(56963) ➞ True\n",
    "prime(5151512515524) ➞ False"
   ]
  },
  {
   "cell_type": "code",
   "execution_count": 17,
   "id": "c22ae579",
   "metadata": {},
   "outputs": [
    {
     "data": {
      "text/plain": [
       "False"
      ]
     },
     "execution_count": 17,
     "metadata": {},
     "output_type": "execute_result"
    }
   ],
   "source": [
    "def is_prime(num):\n",
    "    if num < 2:\n",
    "        return False\n",
    "    for i in range(2, int(num**0.5) + 1):\n",
    "        if num % i == 0:\n",
    "            return False\n",
    "    return True\n",
    "\n",
    "# function Call\n",
    "is_prime(5151512515524)"
   ]
  },
  {
   "cell_type": "code",
   "execution_count": null,
   "id": "7e1092e5",
   "metadata": {},
   "outputs": [],
   "source": []
  },
  {
   "cell_type": "markdown",
   "id": "ba5fcf5c",
   "metadata": {},
   "source": [
    "# 5."
   ]
  },
  {
   "cell_type": "raw",
   "id": "101e48b7",
   "metadata": {},
   "source": [
    "Create a function that converts a word to a bitstring and then to a boolean list based on the following criteria:\n",
    "\n",
    "1. Locate the position of the letter in the English alphabet (from 1 to 26).\n",
    "2. Odd positions will be represented as 1 and 0 otherwise.\n",
    "3. Convert the represented positions to boolean values, 1 for True and 0\n",
    "for False.\n",
    "4. Store the conversions into an array."
   ]
  },
  {
   "cell_type": "code",
   "execution_count": 32,
   "id": "17c9fe7d",
   "metadata": {},
   "outputs": [
    {
     "data": {
      "text/plain": [
       "[False, True, True, False]"
      ]
     },
     "execution_count": 32,
     "metadata": {},
     "output_type": "execute_result"
    }
   ],
   "source": [
    "def bit_to_bool(str):\n",
    "    bit_str = ''\n",
    "    for k in str:\n",
    "        pos = ord(k.lower()) - 96\n",
    "        bit_str += '1' if pos % 2 == 1 else '0'\n",
    "    bool_list = [True if bit == '1' else False for bit in bit_str]\n",
    "    return bool_list\n",
    "\n",
    "# function call\n",
    "bit_to_bool('deep')        "
   ]
  },
  {
   "cell_type": "code",
   "execution_count": null,
   "id": "08976986",
   "metadata": {},
   "outputs": [],
   "source": []
  }
 ],
 "metadata": {
  "kernelspec": {
   "display_name": "Python 3 (ipykernel)",
   "language": "python",
   "name": "python3"
  },
  "language_info": {
   "codemirror_mode": {
    "name": "ipython",
    "version": 3
   },
   "file_extension": ".py",
   "mimetype": "text/x-python",
   "name": "python",
   "nbconvert_exporter": "python",
   "pygments_lexer": "ipython3",
   "version": "3.9.13"
  }
 },
 "nbformat": 4,
 "nbformat_minor": 5
}
